{
 "cells": [
  {
   "cell_type": "markdown",
   "metadata": {},
   "source": [
    "# Continuous Control\n",
    "\n",
    "---\n",
    "\n",
    "You are welcome to use this coding environment to train your agent for the project.  Follow the instructions below to get started!\n",
    "\n",
    "### 1. Start the Environment\n",
    "\n",
    "Run the next code cell to install a few packages.  This line will take a few minutes to run!"
   ]
  },
  {
   "cell_type": "code",
   "execution_count": 2,
   "metadata": {},
   "outputs": [
    {
     "name": "stdout",
     "output_type": "stream",
     "text": [
      "\u001b[31mtensorflow 1.7.1 has requirement numpy>=1.13.3, but you'll have numpy 1.12.1 which is incompatible.\u001b[0m\r\n",
      "\u001b[31mipython 6.5.0 has requirement prompt-toolkit<2.0.0,>=1.0.15, but you'll have prompt-toolkit 2.0.10 which is incompatible.\u001b[0m\r\n"
     ]
    }
   ],
   "source": [
    "!pip -q install ./python"
   ]
  },
  {
   "cell_type": "markdown",
   "metadata": {},
   "source": [
    "The environments corresponding to both versions of the environment are already saved in the Workspace and can be accessed at the file paths provided below.  \n",
    "\n",
    "Please select one of the two options below for loading the environment."
   ]
  },
  {
   "cell_type": "code",
   "execution_count": 3,
   "metadata": {},
   "outputs": [
    {
     "name": "stderr",
     "output_type": "stream",
     "text": [
      "INFO:unityagents:\n",
      "'Academy' started successfully!\n",
      "Unity Academy name: Academy\n",
      "        Number of Brains: 1\n",
      "        Number of External Brains : 1\n",
      "        Lesson number : 0\n",
      "        Reset Parameters :\n",
      "\t\tgoal_size -> 5.0\n",
      "\t\tgoal_speed -> 1.0\n",
      "Unity brain name: ReacherBrain\n",
      "        Number of Visual Observations (per agent): 0\n",
      "        Vector Observation space type: continuous\n",
      "        Vector Observation space size (per agent): 33\n",
      "        Number of stacked Vector Observation: 1\n",
      "        Vector Action space type: continuous\n",
      "        Vector Action space size (per agent): 4\n",
      "        Vector Action descriptions: , , , \n"
     ]
    }
   ],
   "source": [
    "from unityagents import UnityEnvironment\n",
    "import numpy as np\n",
    "\n",
    "# select this option to load version 1 (with a single agent) of the environment\n",
    "# env = UnityEnvironment(file_name='/data/Reacher_One_Linux_NoVis/Reacher_One_Linux_NoVis.x86_64')\n",
    "\n",
    "# select this option to load version 2 (with 20 agents) of the environment\n",
    "env = UnityEnvironment(file_name='/data/Reacher_Linux_NoVis/Reacher.x86_64')"
   ]
  },
  {
   "cell_type": "markdown",
   "metadata": {},
   "source": [
    "Environments contain **_brains_** which are responsible for deciding the actions of their associated agents. Here we check for the first brain available, and set it as the default brain we will be controlling from Python."
   ]
  },
  {
   "cell_type": "code",
   "execution_count": 4,
   "metadata": {},
   "outputs": [],
   "source": [
    "# get the default brain\n",
    "brain_name = env.brain_names[0]\n",
    "brain = env.brains[brain_name]"
   ]
  },
  {
   "cell_type": "markdown",
   "metadata": {},
   "source": [
    "### 2. Examine the State and Action Spaces\n",
    "\n",
    "Run the code cell below to print some information about the environment."
   ]
  },
  {
   "cell_type": "code",
   "execution_count": 5,
   "metadata": {},
   "outputs": [
    {
     "name": "stdout",
     "output_type": "stream",
     "text": [
      "Number of agents: 20\n",
      "Size of each action: 4\n",
      "There are 20 agents. Each observes a state with length: 33\n",
      "The state for the first agent looks like: [  0.00000000e+00  -4.00000000e+00   0.00000000e+00   1.00000000e+00\n",
      "  -0.00000000e+00  -0.00000000e+00  -4.37113883e-08   0.00000000e+00\n",
      "   0.00000000e+00   0.00000000e+00   0.00000000e+00   0.00000000e+00\n",
      "   0.00000000e+00   0.00000000e+00  -1.00000000e+01   0.00000000e+00\n",
      "   1.00000000e+00  -0.00000000e+00  -0.00000000e+00  -4.37113883e-08\n",
      "   0.00000000e+00   0.00000000e+00   0.00000000e+00   0.00000000e+00\n",
      "   0.00000000e+00   0.00000000e+00   5.75471878e+00  -1.00000000e+00\n",
      "   5.55726624e+00   0.00000000e+00   1.00000000e+00   0.00000000e+00\n",
      "  -1.68164849e-01]\n"
     ]
    }
   ],
   "source": [
    "# reset the environment\n",
    "env_info = env.reset(train_mode=True)[brain_name]\n",
    "\n",
    "# number of agents\n",
    "num_agents = len(env_info.agents)\n",
    "print('Number of agents:', num_agents)\n",
    "\n",
    "# size of each action\n",
    "action_size = brain.vector_action_space_size\n",
    "print('Size of each action:', action_size)\n",
    "\n",
    "# examine the state space \n",
    "states = env_info.vector_observations\n",
    "state_size = states.shape[1]\n",
    "print('There are {} agents. Each observes a state with length: {}'.format(states.shape[0], state_size))\n",
    "print('The state for the first agent looks like:', states[0])"
   ]
  },
  {
   "cell_type": "markdown",
   "metadata": {},
   "source": [
    "### 3. Take Random Actions in the Environment\n",
    "\n",
    "In the next code cell, you will learn how to use the Python API to control the agent and receive feedback from the environment.\n",
    "\n",
    "Note that **in this coding environment, you will not be able to watch the agents while they are training**, and you should set `train_mode=True` to restart the environment."
   ]
  },
  {
   "cell_type": "code",
   "execution_count": 6,
   "metadata": {},
   "outputs": [
    {
     "name": "stdout",
     "output_type": "stream",
     "text": [
      "Total score (averaged over agents) this episode: 0.0514999988488853\n"
     ]
    }
   ],
   "source": [
    "env_info = env.reset(train_mode=True)[brain_name]      # reset the environment    \n",
    "states = env_info.vector_observations                  # get the current state (for each agent)\n",
    "#print('STATES =>',states)\n",
    "scores = np.zeros(num_agents)                          # initialize the score (for each agent)\n",
    "while True:\n",
    "    actions = np.random.randn(num_agents, action_size) # select an action (for each agent)\n",
    "    actions = np.clip(actions, -1, 1)                  # all actions between -1 and 1\n",
    "    env_info = env.step(actions)[brain_name]           # send all actions to tne environment\n",
    "    next_states = env_info.vector_observations         # get next state (for each agent)\n",
    "    rewards = env_info.rewards                         # get reward (for each agent)\n",
    "    dones = env_info.local_done                        # see if episode finished\n",
    "    scores += env_info.rewards                         # update the score (for each agent)\n",
    "    states = next_states                               # roll over states to next time step\n",
    "    if np.any(dones):                                  # exit loop if episode finished\n",
    "        break\n",
    "print('Total score (averaged over agents) this episode: {}'.format(np.mean(scores)))"
   ]
  },
  {
   "cell_type": "markdown",
   "metadata": {},
   "source": [
    "When finished, you can close the environment."
   ]
  },
  {
   "cell_type": "code",
   "execution_count": null,
   "metadata": {},
   "outputs": [],
   "source": [
    "#env.close()"
   ]
  },
  {
   "cell_type": "markdown",
   "metadata": {},
   "source": [
    "### 4. It's Your Turn!\n",
    "\n",
    "Now it's your turn to train your own agent to solve the environment!  A few **important notes**:\n",
    "- When training the environment, set `train_mode=True`, so that the line for resetting the environment looks like the following:\n",
    "```python\n",
    "env_info = env.reset(train_mode=True)[brain_name]\n",
    "```\n",
    "- To structure your work, you're welcome to work directly in this Jupyter notebook, or you might like to start over with a new file!  You can see the list of files in the workspace by clicking on **_Jupyter_** in the top left corner of the notebook.\n",
    "- In this coding environment, you will not be able to watch the agents while they are training.  However, **_after training the agents_**, you can download the saved model weights to watch the agents on your own machine! "
   ]
  },
  {
   "cell_type": "code",
   "execution_count": 7,
   "metadata": {},
   "outputs": [],
   "source": [
    "import torch\n",
    "\n",
    "from collections import deque\n",
    "from ddpg_agent import Agent as DDPG_Agent\n",
    "import time"
   ]
  },
  {
   "cell_type": "code",
   "execution_count": 8,
   "metadata": {},
   "outputs": [
    {
     "name": "stdout",
     "output_type": "stream",
     "text": [
      "STATES = 33 \n",
      "ACTIONS = 4\n"
     ]
    }
   ],
   "source": [
    "print('STATES = {} \\nACTIONS = {}'.format(state_size,action_size))\n",
    "agent = DDPG_Agent(state_size,action_size, random_seed = 0)"
   ]
  },
  {
   "cell_type": "code",
   "execution_count": 9,
   "metadata": {},
   "outputs": [],
   "source": [
    "def ddpg(n_episodes=1000, max_t=1000, print_every=10, print_each_episode=True):\n",
    "    \"\"\"\n",
    "    Params:\n",
    "    ======\n",
    "    n_episodes(int): Maximum number of training episodes\n",
    "    max_t(int): maximum number of episodes per timestep\n",
    "    print_every(int): print average score after n episodes\n",
    "    \"\"\"\n",
    "    scores_deque = deque(maxlen=100)\n",
    "    scores = np.zeros(num_agents)\n",
    "    mean_scores = []\n",
    "    moving_avg = []\n",
    "      \n",
    "    for i_episode in range(1, n_episodes+1):\n",
    "        \n",
    "        start_time = time.time()\n",
    "        \n",
    "        if(print_each_episode):\n",
    "            print(\"Start Episode {}------------------------------------------------\".format(i_episode))\n",
    "        \n",
    "        # for each episode reset the environment\n",
    "        env_info = env.reset(train_mode=True)[brain_name]\n",
    "        \n",
    "        # get new states for all agents \n",
    "        states = env_info.vector_observations\n",
    "        \n",
    "        agent.reset()\n",
    "        \n",
    "        # reinitialize scores \n",
    "        scores = np.zeros(num_agents)\n",
    "        \n",
    "        for t in range(max_t):\n",
    "            # generate new action for each agent\n",
    "            actions = agent.act(states)\n",
    "                \n",
    "            env_info = env.step(actions)[brain_name]        # send the actions to the environment\n",
    "            \n",
    "            next_states = env_info.vector_observations      # get the next states\n",
    "            \n",
    "            rewards = env_info.rewards                   # get the rewards\n",
    "            \n",
    "            dones = env_info.local_done                  # check if episode (for any agent) is finished   \n",
    "            \n",
    "            for state, action, reward, next_state, done in zip(states, actions, rewards, next_states, dones):\n",
    "                agent.step(state, action, reward, next_state, done,t)\n",
    "                \n",
    "            states = next_states\n",
    "            scores += rewards\n",
    "            if np.any(dones):\n",
    "                break \n",
    "         \n",
    "        duration = time.time() - start_time;\n",
    "        score = np.mean(scores)\n",
    "        mean_scores.append(score)\n",
    "        scores_deque.append(score)\n",
    "        moving_avg.append(np.mean(scores_deque))\n",
    "        \n",
    "        if(print_each_episode):\n",
    "            print('\\rEpisode {} [{}s]\\tScore: {:.2f}\\tAverage Score: {:.2f}'.format(i_episode,round(duration),score, np.mean(scores_deque)))\n",
    "        \n",
    "        if(np.mean(scores_deque)>=30):\n",
    "            print('Environment solved in {}\\tScore: {:.2f}\\nSAVING CHECKPOINTS...'.format(i_episode-100,np.mean(scores_deque)))\n",
    "            torch.save(agent.actor_local.state_dict(), 'checkpoint_actor_20_agents.pth')\n",
    "            torch.save(agent.critic_local.state_dict(), 'checkpoint_critic_20_agents.pth')\n",
    "            break; # environment solved\n",
    "        if i_episode % print_every == 0:\n",
    "            print('\\nEpisode {} [{}s]\\tAverage Score: {:.2f}\\n'.format(i_episode,round(duration),np.mean(scores_deque)))\n",
    "            torch.save(agent.actor_local.state_dict(), 'checkpoint_actor_20_agents.pth')\n",
    "            torch.save(agent.critic_local.state_dict(), 'checkpoint_critic_20_agents.pth')\n",
    "    return mean_scores,moving_avg"
   ]
  },
  {
   "cell_type": "code",
   "execution_count": 10,
   "metadata": {
    "scrolled": true
   },
   "outputs": [
    {
     "name": "stdout",
     "output_type": "stream",
     "text": [
      "Start Episode 1------------------------------------------------\n",
      "Episode 1 [112s]\tScore: 0.73\tAverage Score: 0.73\n",
      "Start Episode 2------------------------------------------------\n",
      "Episode 2 [116s]\tScore: 1.33\tAverage Score: 1.03\n",
      "Start Episode 3------------------------------------------------\n",
      "Episode 3 [117s]\tScore: 1.95\tAverage Score: 1.33\n",
      "Start Episode 4------------------------------------------------\n",
      "Episode 4 [118s]\tScore: 2.43\tAverage Score: 1.61\n",
      "Start Episode 5------------------------------------------------\n",
      "Episode 5 [118s]\tScore: 2.61\tAverage Score: 1.81\n",
      "Start Episode 6------------------------------------------------\n",
      "Episode 6 [119s]\tScore: 2.97\tAverage Score: 2.00\n",
      "Start Episode 7------------------------------------------------\n",
      "Episode 7 [120s]\tScore: 3.47\tAverage Score: 2.21\n",
      "Start Episode 8------------------------------------------------\n",
      "Episode 8 [120s]\tScore: 4.10\tAverage Score: 2.45\n",
      "Start Episode 9------------------------------------------------\n",
      "Episode 9 [122s]\tScore: 4.30\tAverage Score: 2.65\n",
      "Start Episode 10------------------------------------------------\n",
      "Episode 10 [123s]\tScore: 4.19\tAverage Score: 2.81\n",
      "\n",
      "Episode 10 [123s]\tAverage Score: 2.81\n",
      "\n",
      "Start Episode 11------------------------------------------------\n",
      "Episode 11 [124s]\tScore: 5.15\tAverage Score: 3.02\n",
      "Start Episode 12------------------------------------------------\n",
      "Episode 12 [125s]\tScore: 5.09\tAverage Score: 3.19\n",
      "Start Episode 13------------------------------------------------\n",
      "Episode 13 [127s]\tScore: 6.83\tAverage Score: 3.47\n",
      "Start Episode 14------------------------------------------------\n",
      "Episode 14 [128s]\tScore: 7.40\tAverage Score: 3.75\n",
      "Start Episode 15------------------------------------------------\n",
      "Episode 15 [130s]\tScore: 7.68\tAverage Score: 4.02\n",
      "Start Episode 16------------------------------------------------\n",
      "Episode 16 [132s]\tScore: 9.44\tAverage Score: 4.35\n",
      "Start Episode 17------------------------------------------------\n",
      "Episode 17 [135s]\tScore: 9.59\tAverage Score: 4.66\n",
      "Start Episode 18------------------------------------------------\n",
      "Episode 18 [136s]\tScore: 11.69\tAverage Score: 5.05\n",
      "Start Episode 19------------------------------------------------\n",
      "Episode 19 [139s]\tScore: 10.51\tAverage Score: 5.34\n",
      "Start Episode 20------------------------------------------------\n",
      "Episode 20 [141s]\tScore: 14.18\tAverage Score: 5.78\n",
      "\n",
      "Episode 20 [141s]\tAverage Score: 5.78\n",
      "\n",
      "Start Episode 21------------------------------------------------\n",
      "Episode 21 [143s]\tScore: 14.99\tAverage Score: 6.22\n",
      "Start Episode 22------------------------------------------------\n",
      "Episode 22 [145s]\tScore: 17.83\tAverage Score: 6.75\n",
      "Start Episode 23------------------------------------------------\n",
      "Episode 23 [147s]\tScore: 15.97\tAverage Score: 7.15\n",
      "Start Episode 24------------------------------------------------\n",
      "Episode 24 [149s]\tScore: 16.86\tAverage Score: 7.55\n",
      "Start Episode 25------------------------------------------------\n",
      "Episode 25 [152s]\tScore: 16.99\tAverage Score: 7.93\n",
      "Start Episode 26------------------------------------------------\n",
      "Episode 26 [154s]\tScore: 19.09\tAverage Score: 8.36\n",
      "Start Episode 27------------------------------------------------\n",
      "Episode 27 [158s]\tScore: 22.73\tAverage Score: 8.89\n",
      "Start Episode 28------------------------------------------------\n",
      "Episode 28 [160s]\tScore: 23.37\tAverage Score: 9.41\n",
      "Start Episode 29------------------------------------------------\n",
      "Episode 29 [163s]\tScore: 19.54\tAverage Score: 9.76\n",
      "Start Episode 30------------------------------------------------\n",
      "Episode 30 [165s]\tScore: 22.46\tAverage Score: 10.18\n",
      "\n",
      "Episode 30 [165s]\tAverage Score: 10.18\n",
      "\n",
      "Start Episode 31------------------------------------------------\n",
      "Episode 31 [167s]\tScore: 24.43\tAverage Score: 10.64\n",
      "Start Episode 32------------------------------------------------\n",
      "Episode 32 [170s]\tScore: 27.64\tAverage Score: 11.17\n",
      "Start Episode 33------------------------------------------------\n",
      "Episode 33 [172s]\tScore: 30.71\tAverage Score: 11.77\n",
      "Start Episode 34------------------------------------------------\n",
      "Episode 34 [175s]\tScore: 30.57\tAverage Score: 12.32\n",
      "Start Episode 35------------------------------------------------\n",
      "Episode 35 [178s]\tScore: 32.82\tAverage Score: 12.90\n",
      "Start Episode 36------------------------------------------------\n",
      "Episode 36 [180s]\tScore: 33.75\tAverage Score: 13.48\n",
      "Start Episode 37------------------------------------------------\n",
      "Episode 37 [183s]\tScore: 34.05\tAverage Score: 14.04\n",
      "Start Episode 38------------------------------------------------\n",
      "Episode 38 [185s]\tScore: 34.46\tAverage Score: 14.58\n",
      "Start Episode 39------------------------------------------------\n",
      "Episode 39 [188s]\tScore: 35.55\tAverage Score: 15.11\n",
      "Start Episode 40------------------------------------------------\n",
      "Episode 40 [191s]\tScore: 35.87\tAverage Score: 15.63\n",
      "\n",
      "Episode 40 [191s]\tAverage Score: 15.63\n",
      "\n",
      "Start Episode 41------------------------------------------------\n",
      "Episode 41 [192s]\tScore: 35.42\tAverage Score: 16.12\n",
      "Start Episode 42------------------------------------------------\n",
      "Episode 42 [195s]\tScore: 36.67\tAverage Score: 16.61\n",
      "Start Episode 43------------------------------------------------\n",
      "Episode 43 [197s]\tScore: 36.57\tAverage Score: 17.07\n",
      "Start Episode 44------------------------------------------------\n",
      "Episode 44 [200s]\tScore: 36.79\tAverage Score: 17.52\n",
      "Start Episode 45------------------------------------------------\n",
      "Episode 45 [202s]\tScore: 37.06\tAverage Score: 17.95\n",
      "Start Episode 46------------------------------------------------\n",
      "Episode 46 [205s]\tScore: 36.59\tAverage Score: 18.36\n",
      "Start Episode 47------------------------------------------------\n",
      "Episode 47 [207s]\tScore: 37.25\tAverage Score: 18.76\n",
      "Start Episode 48------------------------------------------------\n",
      "Episode 48 [209s]\tScore: 36.22\tAverage Score: 19.12\n",
      "Start Episode 49------------------------------------------------\n",
      "Episode 49 [213s]\tScore: 37.06\tAverage Score: 19.49\n",
      "Start Episode 50------------------------------------------------\n",
      "Episode 50 [215s]\tScore: 37.58\tAverage Score: 19.85\n",
      "\n",
      "Episode 50 [215s]\tAverage Score: 19.85\n",
      "\n",
      "Start Episode 51------------------------------------------------\n",
      "Episode 51 [216s]\tScore: 38.00\tAverage Score: 20.21\n",
      "Start Episode 52------------------------------------------------\n",
      "Episode 52 [217s]\tScore: 38.37\tAverage Score: 20.56\n",
      "Start Episode 53------------------------------------------------\n",
      "Episode 53 [217s]\tScore: 38.78\tAverage Score: 20.90\n",
      "Start Episode 54------------------------------------------------\n",
      "Episode 54 [217s]\tScore: 38.86\tAverage Score: 21.23\n",
      "Start Episode 55------------------------------------------------\n",
      "Episode 55 [217s]\tScore: 38.35\tAverage Score: 21.54\n",
      "Start Episode 56------------------------------------------------\n",
      "Episode 56 [217s]\tScore: 38.48\tAverage Score: 21.85\n",
      "Start Episode 57------------------------------------------------\n",
      "Episode 57 [217s]\tScore: 38.57\tAverage Score: 22.14\n",
      "Start Episode 58------------------------------------------------\n",
      "Episode 58 [216s]\tScore: 38.96\tAverage Score: 22.43\n",
      "Start Episode 59------------------------------------------------\n",
      "Episode 59 [217s]\tScore: 38.79\tAverage Score: 22.71\n",
      "Start Episode 60------------------------------------------------\n",
      "Episode 60 [217s]\tScore: 39.21\tAverage Score: 22.98\n",
      "\n",
      "Episode 60 [217s]\tAverage Score: 22.98\n",
      "\n",
      "Start Episode 61------------------------------------------------\n",
      "Episode 61 [216s]\tScore: 39.02\tAverage Score: 23.24\n",
      "Start Episode 62------------------------------------------------\n",
      "Episode 62 [216s]\tScore: 39.18\tAverage Score: 23.50\n",
      "Start Episode 63------------------------------------------------\n",
      "Episode 63 [217s]\tScore: 38.93\tAverage Score: 23.75\n",
      "Start Episode 64------------------------------------------------\n",
      "Episode 64 [217s]\tScore: 39.09\tAverage Score: 23.99\n",
      "Start Episode 65------------------------------------------------\n",
      "Episode 65 [217s]\tScore: 38.82\tAverage Score: 24.21\n",
      "Start Episode 66------------------------------------------------\n",
      "Episode 66 [217s]\tScore: 38.95\tAverage Score: 24.44\n",
      "Start Episode 67------------------------------------------------\n",
      "Episode 67 [217s]\tScore: 38.53\tAverage Score: 24.65\n",
      "Start Episode 68------------------------------------------------\n",
      "Episode 68 [217s]\tScore: 38.25\tAverage Score: 24.85\n",
      "Start Episode 69------------------------------------------------\n",
      "Episode 69 [217s]\tScore: 38.89\tAverage Score: 25.05\n",
      "Start Episode 70------------------------------------------------\n",
      "Episode 70 [217s]\tScore: 36.50\tAverage Score: 25.22\n",
      "\n",
      "Episode 70 [217s]\tAverage Score: 25.22\n",
      "\n",
      "Start Episode 71------------------------------------------------\n",
      "Episode 71 [217s]\tScore: 37.81\tAverage Score: 25.39\n",
      "Start Episode 72------------------------------------------------\n",
      "Episode 72 [217s]\tScore: 36.98\tAverage Score: 25.55\n",
      "Start Episode 73------------------------------------------------\n",
      "Episode 73 [216s]\tScore: 38.28\tAverage Score: 25.73\n",
      "Start Episode 74------------------------------------------------\n",
      "Episode 74 [216s]\tScore: 37.76\tAverage Score: 25.89\n",
      "Start Episode 75------------------------------------------------\n",
      "Episode 75 [217s]\tScore: 37.13\tAverage Score: 26.04\n",
      "Start Episode 76------------------------------------------------\n",
      "Episode 76 [216s]\tScore: 35.29\tAverage Score: 26.16\n",
      "Start Episode 77------------------------------------------------\n",
      "Episode 77 [216s]\tScore: 35.42\tAverage Score: 26.28\n",
      "Start Episode 78------------------------------------------------\n",
      "Episode 78 [216s]\tScore: 37.28\tAverage Score: 26.42\n",
      "Start Episode 79------------------------------------------------\n",
      "Episode 79 [216s]\tScore: 38.26\tAverage Score: 26.57\n",
      "Start Episode 80------------------------------------------------\n",
      "Episode 80 [216s]\tScore: 35.87\tAverage Score: 26.69\n",
      "\n",
      "Episode 80 [216s]\tAverage Score: 26.69\n",
      "\n",
      "Start Episode 81------------------------------------------------\n",
      "Episode 81 [217s]\tScore: 35.11\tAverage Score: 26.79\n",
      "Start Episode 82------------------------------------------------\n",
      "Episode 82 [216s]\tScore: 36.01\tAverage Score: 26.91\n",
      "Start Episode 83------------------------------------------------\n",
      "Episode 83 [216s]\tScore: 37.70\tAverage Score: 27.04\n",
      "Start Episode 84------------------------------------------------\n",
      "Episode 84 [217s]\tScore: 37.47\tAverage Score: 27.16\n",
      "Start Episode 85------------------------------------------------\n",
      "Episode 85 [216s]\tScore: 34.83\tAverage Score: 27.25\n",
      "Start Episode 86------------------------------------------------\n",
      "Episode 86 [217s]\tScore: 36.39\tAverage Score: 27.36\n",
      "Start Episode 87------------------------------------------------\n",
      "Episode 87 [217s]\tScore: 27.60\tAverage Score: 27.36\n",
      "Start Episode 88------------------------------------------------\n",
      "Episode 88 [217s]\tScore: 27.12\tAverage Score: 27.36\n",
      "Start Episode 89------------------------------------------------\n",
      "Episode 89 [217s]\tScore: 25.75\tAverage Score: 27.34\n",
      "Start Episode 90------------------------------------------------\n",
      "Episode 90 [217s]\tScore: 27.06\tAverage Score: 27.34\n",
      "\n",
      "Episode 90 [217s]\tAverage Score: 27.34\n",
      "\n",
      "Start Episode 91------------------------------------------------\n",
      "Episode 91 [218s]\tScore: 31.56\tAverage Score: 27.38\n",
      "Start Episode 92------------------------------------------------\n",
      "Episode 92 [218s]\tScore: 34.14\tAverage Score: 27.46\n",
      "Start Episode 93------------------------------------------------\n",
      "Episode 93 [218s]\tScore: 37.24\tAverage Score: 27.56\n",
      "Start Episode 94------------------------------------------------\n",
      "Episode 94 [217s]\tScore: 37.71\tAverage Score: 27.67\n",
      "Start Episode 95------------------------------------------------\n",
      "Episode 95 [217s]\tScore: 37.51\tAverage Score: 27.77\n",
      "Start Episode 96------------------------------------------------\n",
      "Episode 96 [218s]\tScore: 37.33\tAverage Score: 27.87\n",
      "Start Episode 97------------------------------------------------\n",
      "Episode 97 [217s]\tScore: 37.09\tAverage Score: 27.97\n",
      "Start Episode 98------------------------------------------------\n",
      "Episode 98 [216s]\tScore: 37.16\tAverage Score: 28.06\n",
      "Start Episode 99------------------------------------------------\n",
      "Episode 99 [217s]\tScore: 38.13\tAverage Score: 28.16\n",
      "Start Episode 100------------------------------------------------\n",
      "Episode 100 [218s]\tScore: 38.77\tAverage Score: 28.27\n",
      "\n",
      "Episode 100 [218s]\tAverage Score: 28.27\n",
      "\n",
      "Start Episode 101------------------------------------------------\n",
      "Episode 101 [218s]\tScore: 38.53\tAverage Score: 28.65\n",
      "Start Episode 102------------------------------------------------\n",
      "Episode 102 [218s]\tScore: 37.76\tAverage Score: 29.01\n",
      "Start Episode 103------------------------------------------------\n",
      "Episode 103 [218s]\tScore: 37.58\tAverage Score: 29.37\n",
      "Start Episode 104------------------------------------------------\n",
      "Episode 104 [218s]\tScore: 38.02\tAverage Score: 29.72\n",
      "Start Episode 105------------------------------------------------\n",
      "Episode 105 [217s]\tScore: 38.69\tAverage Score: 30.08\n",
      "Environment solved in 5\tScore: 30.08\n",
      "SAVING CHECKPOINTS...\n"
     ]
    }
   ],
   "source": [
    "scores_deque, moving_avg = ddpg()"
   ]
  },
  {
   "cell_type": "markdown",
   "metadata": {},
   "source": [
    "## Plot Agent Score"
   ]
  },
  {
   "cell_type": "code",
   "execution_count": 11,
   "metadata": {},
   "outputs": [],
   "source": [
    "import matplotlib.pyplot as plt\n",
    "\n",
    "%matplotlib inline"
   ]
  },
  {
   "cell_type": "code",
   "execution_count": 17,
   "metadata": {},
   "outputs": [
    {
     "data": {
      "image/png": "[encoded data removed]",
      "text/plain": [
       "<matplotlib.figure.Figure at 0x7f82d137a4a8>"
      ]
     },
     "metadata": {
      "needs_background": "light"
     },
     "output_type": "display_data"
    }
   ],
   "source": [
    "fig = plt.figure()\n",
    "ax = fig.add_subplot(111)\n",
    "plt.plot(np.arange(len(scores_deque)), scores_deque, label=\"Average Scores per episode\")\n",
    "plt.plot(np.arange(len(moving_avg)), moving_avg, color=\"g\", label=\"Moving Average\")\n",
    "plt.ylabel('Score')\n",
    "plt.xlabel('Episode #')\n",
    "ax.legend(loc=\"upper left\")\n",
    "plt.show()"
   ]
  },
  {
   "cell_type": "code",
   "execution_count": null,
   "metadata": {},
   "outputs": [],
   "source": []
  }
 ],
 "metadata": {
  "kernelspec": {
   "display_name": "Python 3",
   "language": "python",
   "name": "python3"
  },
  "language_info": {
   "codemirror_mode": {
    "name": "ipython",
    "version": 3
   },
   "file_extension": ".py",
   "mimetype": "text/x-python",
   "name": "python",
   "nbconvert_exporter": "python",
   "pygments_lexer": "ipython3",
   "version": "3.6.3"
  }
 },
 "nbformat": 4,
 "nbformat_minor": 2
}
