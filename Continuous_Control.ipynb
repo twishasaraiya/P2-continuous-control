{
 "cells": [
  {
   "cell_type": "markdown",
   "metadata": {},
   "source": [
    "# Continuous Control\n",
    "\n",
    "---\n",
    "\n",
    "You are welcome to use this coding environment to train your agent for the project.  Follow the instructions below to get started!\n",
    "\n",
    "### 1. Start the Environment\n",
    "\n",
    "Run the next code cell to install a few packages.  This line will take a few minutes to run!"
   ]
  },
  {
   "cell_type": "code",
   "execution_count": 1,
   "metadata": {},
   "outputs": [
    {
     "name": "stdout",
     "output_type": "stream",
     "text": [
      "\u001b[31mtensorflow 1.7.1 has requirement numpy>=1.13.3, but you'll have numpy 1.12.1 which is incompatible.\u001b[0m\r\n",
      "\u001b[31mipython 6.5.0 has requirement prompt-toolkit<2.0.0,>=1.0.15, but you'll have prompt-toolkit 2.0.10 which is incompatible.\u001b[0m\r\n"
     ]
    }
   ],
   "source": [
    "!pip -q install ./python"
   ]
  },
  {
   "cell_type": "markdown",
   "metadata": {},
   "source": [
    "The environments corresponding to both versions of the environment are already saved in the Workspace and can be accessed at the file paths provided below.  \n",
    "\n",
    "Please select one of the two options below for loading the environment."
   ]
  },
  {
   "cell_type": "code",
   "execution_count": 2,
   "metadata": {},
   "outputs": [
    {
     "name": "stderr",
     "output_type": "stream",
     "text": [
      "INFO:unityagents:\n",
      "'Academy' started successfully!\n",
      "Unity Academy name: Academy\n",
      "        Number of Brains: 1\n",
      "        Number of External Brains : 1\n",
      "        Lesson number : 0\n",
      "        Reset Parameters :\n",
      "\t\tgoal_speed -> 1.0\n",
      "\t\tgoal_size -> 5.0\n",
      "Unity brain name: ReacherBrain\n",
      "        Number of Visual Observations (per agent): 0\n",
      "        Vector Observation space type: continuous\n",
      "        Vector Observation space size (per agent): 33\n",
      "        Number of stacked Vector Observation: 1\n",
      "        Vector Action space type: continuous\n",
      "        Vector Action space size (per agent): 4\n",
      "        Vector Action descriptions: , , , \n"
     ]
    }
   ],
   "source": [
    "from unityagents import UnityEnvironment\n",
    "import numpy as np\n",
    "\n",
    "# select this option to load version 1 (with a single agent) of the environment\n",
    "# env = UnityEnvironment(file_name='/data/Reacher_One_Linux_NoVis/Reacher_One_Linux_NoVis.x86_64')\n",
    "\n",
    "# select this option to load version 2 (with 20 agents) of the environment\n",
    "env = UnityEnvironment(file_name='/data/Reacher_Linux_NoVis/Reacher.x86_64')"
   ]
  },
  {
   "cell_type": "markdown",
   "metadata": {},
   "source": [
    "Environments contain **_brains_** which are responsible for deciding the actions of their associated agents. Here we check for the first brain available, and set it as the default brain we will be controlling from Python."
   ]
  },
  {
   "cell_type": "code",
   "execution_count": 3,
   "metadata": {},
   "outputs": [],
   "source": [
    "# get the default brain\n",
    "brain_name = env.brain_names[0]\n",
    "brain = env.brains[brain_name]"
   ]
  },
  {
   "cell_type": "markdown",
   "metadata": {},
   "source": [
    "### 2. Examine the State and Action Spaces\n",
    "\n",
    "Run the code cell below to print some information about the environment."
   ]
  },
  {
   "cell_type": "code",
   "execution_count": 4,
   "metadata": {},
   "outputs": [
    {
     "name": "stdout",
     "output_type": "stream",
     "text": [
      "Number of agents: 20\n",
      "Size of each action: 4\n",
      "There are 20 agents. Each observes a state with length: 33\n",
      "The state for the first agent looks like: [  0.00000000e+00  -4.00000000e+00   0.00000000e+00   1.00000000e+00\n",
      "  -0.00000000e+00  -0.00000000e+00  -4.37113883e-08   0.00000000e+00\n",
      "   0.00000000e+00   0.00000000e+00   0.00000000e+00   0.00000000e+00\n",
      "   0.00000000e+00   0.00000000e+00  -1.00000000e+01   0.00000000e+00\n",
      "   1.00000000e+00  -0.00000000e+00  -0.00000000e+00  -4.37113883e-08\n",
      "   0.00000000e+00   0.00000000e+00   0.00000000e+00   0.00000000e+00\n",
      "   0.00000000e+00   0.00000000e+00   5.75471878e+00  -1.00000000e+00\n",
      "   5.55726624e+00   0.00000000e+00   1.00000000e+00   0.00000000e+00\n",
      "  -1.68164849e-01]\n"
     ]
    }
   ],
   "source": [
    "# reset the environment\n",
    "env_info = env.reset(train_mode=True)[brain_name]\n",
    "\n",
    "# number of agents\n",
    "num_agents = len(env_info.agents)\n",
    "print('Number of agents:', num_agents)\n",
    "\n",
    "# size of each action\n",
    "action_size = brain.vector_action_space_size\n",
    "print('Size of each action:', action_size)\n",
    "\n",
    "# examine the state space \n",
    "states = env_info.vector_observations\n",
    "state_size = states.shape[1]\n",
    "print('There are {} agents. Each observes a state with length: {}'.format(states.shape[0], state_size))\n",
    "print('The state for the first agent looks like:', states[0])"
   ]
  },
  {
   "cell_type": "markdown",
   "metadata": {},
   "source": [
    "### 3. Take Random Actions in the Environment\n",
    "\n",
    "In the next code cell, you will learn how to use the Python API to control the agent and receive feedback from the environment.\n",
    "\n",
    "Note that **in this coding environment, you will not be able to watch the agents while they are training**, and you should set `train_mode=True` to restart the environment."
   ]
  },
  {
   "cell_type": "code",
   "execution_count": 5,
   "metadata": {},
   "outputs": [
    {
     "name": "stdout",
     "output_type": "stream",
     "text": [
      "Total score (averaged over agents) this episode: 0.0859999980777502\n"
     ]
    }
   ],
   "source": [
    "env_info = env.reset(train_mode=True)[brain_name]      # reset the environment    \n",
    "states = env_info.vector_observations                  # get the current state (for each agent)\n",
    "#print('STATES =>',states)\n",
    "scores = np.zeros(num_agents)                          # initialize the score (for each agent)\n",
    "while True:\n",
    "    actions = np.random.randn(num_agents, action_size) # select an action (for each agent)\n",
    "    actions = np.clip(actions, -1, 1)                  # all actions between -1 and 1\n",
    "    env_info = env.step(actions)[brain_name]           # send all actions to tne environment\n",
    "    next_states = env_info.vector_observations         # get next state (for each agent)\n",
    "    rewards = env_info.rewards                         # get reward (for each agent)\n",
    "    dones = env_info.local_done                        # see if episode finished\n",
    "    scores += env_info.rewards                         # update the score (for each agent)\n",
    "    states = next_states                               # roll over states to next time step\n",
    "    if np.any(dones):                                  # exit loop if episode finished\n",
    "        break\n",
    "print('Total score (averaged over agents) this episode: {}'.format(np.mean(scores)))"
   ]
  },
  {
   "cell_type": "markdown",
   "metadata": {},
   "source": [
    "When finished, you can close the environment."
   ]
  },
  {
   "cell_type": "code",
   "execution_count": null,
   "metadata": {},
   "outputs": [],
   "source": [
    "#env.close()"
   ]
  },
  {
   "cell_type": "markdown",
   "metadata": {},
   "source": [
    "### 4. It's Your Turn!\n",
    "\n",
    "Now it's your turn to train your own agent to solve the environment!  A few **important notes**:\n",
    "- When training the environment, set `train_mode=True`, so that the line for resetting the environment looks like the following:\n",
    "```python\n",
    "env_info = env.reset(train_mode=True)[brain_name]\n",
    "```\n",
    "- To structure your work, you're welcome to work directly in this Jupyter notebook, or you might like to start over with a new file!  You can see the list of files in the workspace by clicking on **_Jupyter_** in the top left corner of the notebook.\n",
    "- In this coding environment, you will not be able to watch the agents while they are training.  However, **_after training the agents_**, you can download the saved model weights to watch the agents on your own machine! "
   ]
  },
  {
   "cell_type": "code",
   "execution_count": 6,
   "metadata": {},
   "outputs": [],
   "source": [
    "import torch\n",
    "\n",
    "from collections import deque\n",
    "from ddpg_agent import Agent as DDPG_Agent\n",
    "import time"
   ]
  },
  {
   "cell_type": "code",
   "execution_count": 7,
   "metadata": {},
   "outputs": [
    {
     "name": "stdout",
     "output_type": "stream",
     "text": [
      "STATES = 33 \n",
      "ACTIONS = 4\n"
     ]
    }
   ],
   "source": [
    "print('STATES = {} \\nACTIONS = {}'.format(state_size,action_size))\n",
    "agent = DDPG_Agent(state_size,action_size, random_seed = 0)"
   ]
  },
  {
   "cell_type": "code",
   "execution_count": 8,
   "metadata": {},
   "outputs": [],
   "source": [
    "def ddpg(n_episodes=1000, max_t=1000, print_every=10, print_each_episode=True):\n",
    "    \"\"\"\n",
    "    Params:\n",
    "    ======\n",
    "    n_episodes(int): Maximum number of training episodes\n",
    "    max_t(int): maximum number of episodes per timestep\n",
    "    print_every(int): print average score after n episodes\n",
    "    \"\"\"\n",
    "    scores_deque = deque(maxlen=100)\n",
    "    scores = np.zeros(num_agents)\n",
    "    mean_scores = []\n",
    "      \n",
    "    for i_episode in range(1, n_episodes+1):\n",
    "        \n",
    "        start_time = time.time()\n",
    "        \n",
    "        if(print_each_episode):\n",
    "            print(\"Start Episode {}------------------------------------------------\".format(i_episode))\n",
    "        \n",
    "        # for each episode reset the environment\n",
    "        env_info = env.reset(train_mode=True)[brain_name]\n",
    "        \n",
    "        # get new states for all agents \n",
    "        states = env_info.vector_observations\n",
    "        \n",
    "        agent.reset()\n",
    "        \n",
    "        # reinitialize scores \n",
    "        scores = np.zeros(num_agents)\n",
    "        \n",
    "        for t in range(max_t):\n",
    "            # generate new action for each agent\n",
    "            actions = agent.act(states)\n",
    "                \n",
    "            env_info = env.step(actions)[brain_name]        # send the actions to the environment\n",
    "            \n",
    "            next_states = env_info.vector_observations      # get the next states\n",
    "            \n",
    "            rewards = env_info.rewards                   # get the rewards\n",
    "            \n",
    "            dones = env_info.local_done                  # check if episode (for any agent) is finished   \n",
    "            \n",
    "            for state, action, reward, next_state, done in zip(states, actions, rewards, next_states, dones):\n",
    "                agent.step(state, action, reward, next_state, done,t)\n",
    "                \n",
    "            states = next_states\n",
    "            scores += rewards\n",
    "            if np.any(dones):\n",
    "                break \n",
    "         \n",
    "        duration = time.time() - start_time;\n",
    "        score = np.mean(scores)\n",
    "        mean_scores.append(score)\n",
    "        scores_deque.append(score)\n",
    "        \n",
    "        if(print_each_episode):\n",
    "            print('\\rEpisode {} [{}s]\\tScore: {:.2f}\\tAverage Score: {:.2f}'.format(i_episode,round(duration),score, np.mean(scores_deque)))\n",
    "        \n",
    "        if(np.mean(scores_deque)>=30):\n",
    "            print('Environment solved in {}\\tScore: {:.2f}\\nSAVING CHECKPOINTS...'.format(i_episode-100,np.mean(scores_deque)))\n",
    "            torch.save(agent.actor_local.state_dict(), 'checkpoint_actor_20_agents.pth')\n",
    "            torch.save(agent.critic_local.state_dict(), 'checkpoint_critic_20_agents.pth')\n",
    "            break; # environment solved\n",
    "        if i_episode % print_every == 0:\n",
    "            print('\\nEpisode {} [{}s]\\tAverage Score: {:.2f}\\n'.format(i_episode,round(duration),np.mean(scores_deque)))\n",
    "            torch.save(agent.actor_local.state_dict(), 'checkpoint_actor_20_agents.pth')\n",
    "            torch.save(agent.critic_local.state_dict(), 'checkpoint_critic_20_agents.pth')\n",
    "    return scores"
   ]
  },
  {
   "cell_type": "code",
   "execution_count": 9,
   "metadata": {
    "scrolled": true
   },
   "outputs": [
    {
     "name": "stdout",
     "output_type": "stream",
     "text": [
      "Start Episode 1------------------------------------------------\n",
      "Episode 1 [113s]\tScore: 0.73\tAverage Score: 0.73\n",
      "Start Episode 2------------------------------------------------\n",
      "Episode 2 [116s]\tScore: 1.45\tAverage Score: 1.09\n",
      "Start Episode 3------------------------------------------------\n",
      "Episode 3 [118s]\tScore: 1.59\tAverage Score: 1.26\n",
      "Start Episode 4------------------------------------------------\n",
      "Episode 4 [118s]\tScore: 3.41\tAverage Score: 1.79\n",
      "Start Episode 5------------------------------------------------\n",
      "Episode 5 [119s]\tScore: 3.87\tAverage Score: 2.21\n",
      "Start Episode 6------------------------------------------------\n",
      "Episode 6 [120s]\tScore: 2.94\tAverage Score: 2.33\n",
      "Start Episode 7------------------------------------------------\n",
      "Episode 7 [121s]\tScore: 2.84\tAverage Score: 2.40\n",
      "Start Episode 8------------------------------------------------\n",
      "Episode 8 [123s]\tScore: 3.97\tAverage Score: 2.60\n",
      "Start Episode 9------------------------------------------------\n",
      "Episode 9 [124s]\tScore: 5.04\tAverage Score: 2.87\n",
      "Start Episode 10------------------------------------------------\n",
      "Episode 10 [125s]\tScore: 6.11\tAverage Score: 3.20\n",
      "\n",
      "Episode 10 [125s]\tAverage Score: 3.20\n",
      "\n",
      "Start Episode 11------------------------------------------------\n",
      "Episode 11 [127s]\tScore: 5.76\tAverage Score: 3.43\n",
      "Start Episode 12------------------------------------------------\n",
      "Episode 12 [127s]\tScore: 6.50\tAverage Score: 3.68\n",
      "Start Episode 13------------------------------------------------\n",
      "Episode 13 [128s]\tScore: 7.49\tAverage Score: 3.98\n",
      "Start Episode 14------------------------------------------------\n",
      "Episode 14 [130s]\tScore: 8.62\tAverage Score: 4.31\n",
      "Start Episode 15------------------------------------------------\n",
      "Episode 15 [132s]\tScore: 8.41\tAverage Score: 4.58\n",
      "Start Episode 16------------------------------------------------\n",
      "Episode 16 [134s]\tScore: 9.63\tAverage Score: 4.90\n",
      "Start Episode 17------------------------------------------------\n",
      "Episode 17 [137s]\tScore: 8.74\tAverage Score: 5.12\n",
      "Start Episode 18------------------------------------------------\n",
      "Episode 18 [139s]\tScore: 8.58\tAverage Score: 5.32\n",
      "Start Episode 19------------------------------------------------\n",
      "Episode 19 [140s]\tScore: 8.59\tAverage Score: 5.49\n",
      "Start Episode 20------------------------------------------------\n",
      "Episode 20 [143s]\tScore: 11.49\tAverage Score: 5.79\n",
      "\n",
      "Episode 20 [143s]\tAverage Score: 5.79\n",
      "\n",
      "Start Episode 21------------------------------------------------\n",
      "Episode 21 [144s]\tScore: 9.89\tAverage Score: 5.98\n",
      "Start Episode 22------------------------------------------------\n",
      "Episode 22 [147s]\tScore: 11.96\tAverage Score: 6.25\n",
      "Start Episode 23------------------------------------------------\n",
      "Episode 23 [149s]\tScore: 12.77\tAverage Score: 6.54\n",
      "Start Episode 24------------------------------------------------\n",
      "Episode 24 [152s]\tScore: 13.43\tAverage Score: 6.83\n",
      "Start Episode 25------------------------------------------------\n",
      "Episode 25 [155s]\tScore: 13.64\tAverage Score: 7.10\n",
      "Start Episode 26------------------------------------------------\n",
      "Episode 26 [157s]\tScore: 15.12\tAverage Score: 7.41\n",
      "Start Episode 27------------------------------------------------\n",
      "Episode 27 [160s]\tScore: 16.04\tAverage Score: 7.73\n",
      "Start Episode 28------------------------------------------------\n",
      "Episode 28 [162s]\tScore: 16.51\tAverage Score: 8.04\n",
      "Start Episode 29------------------------------------------------\n",
      "Episode 29 [170s]\tScore: 14.85\tAverage Score: 8.27\n",
      "Start Episode 30------------------------------------------------\n",
      "Episode 30 [168s]\tScore: 15.47\tAverage Score: 8.51\n",
      "\n",
      "Episode 30 [168s]\tAverage Score: 8.51\n",
      "\n",
      "Start Episode 31------------------------------------------------\n",
      "Episode 31 [170s]\tScore: 16.58\tAverage Score: 8.77\n",
      "Start Episode 32------------------------------------------------\n",
      "Episode 32 [174s]\tScore: 17.28\tAverage Score: 9.04\n",
      "Start Episode 33------------------------------------------------\n",
      "Episode 33 [175s]\tScore: 16.90\tAverage Score: 9.28\n",
      "Start Episode 34------------------------------------------------\n",
      "Episode 34 [178s]\tScore: 18.04\tAverage Score: 9.54\n",
      "Start Episode 35------------------------------------------------\n",
      "Episode 35 [179s]\tScore: 17.24\tAverage Score: 9.76\n",
      "Start Episode 36------------------------------------------------\n",
      "Episode 36 [183s]\tScore: 17.83\tAverage Score: 9.98\n",
      "Start Episode 37------------------------------------------------\n",
      "Episode 37 [186s]\tScore: 18.59\tAverage Score: 10.21\n",
      "Start Episode 38------------------------------------------------\n",
      "Episode 38 [188s]\tScore: 18.17\tAverage Score: 10.42\n",
      "Start Episode 39------------------------------------------------\n",
      "Episode 39 [191s]\tScore: 19.64\tAverage Score: 10.66\n",
      "Start Episode 40------------------------------------------------\n",
      "Episode 40 [193s]\tScore: 18.02\tAverage Score: 10.84\n",
      "\n",
      "Episode 40 [193s]\tAverage Score: 10.84\n",
      "\n",
      "Start Episode 41------------------------------------------------\n",
      "Episode 41 [195s]\tScore: 20.52\tAverage Score: 11.08\n",
      "Start Episode 42------------------------------------------------\n",
      "Episode 42 [198s]\tScore: 22.46\tAverage Score: 11.35\n",
      "Start Episode 43------------------------------------------------\n",
      "Episode 43 [200s]\tScore: 22.75\tAverage Score: 11.62\n",
      "Start Episode 44------------------------------------------------\n",
      "Episode 44 [201s]\tScore: 22.51\tAverage Score: 11.86\n",
      "Start Episode 45------------------------------------------------\n",
      "Episode 45 [205s]\tScore: 24.38\tAverage Score: 12.14\n",
      "Start Episode 46------------------------------------------------\n",
      "Episode 46 [206s]\tScore: 24.50\tAverage Score: 12.41\n",
      "Start Episode 47------------------------------------------------\n",
      "Episode 47 [209s]\tScore: 24.71\tAverage Score: 12.67\n",
      "Start Episode 48------------------------------------------------\n",
      "Episode 48 [212s]\tScore: 26.01\tAverage Score: 12.95\n",
      "Start Episode 49------------------------------------------------\n",
      "Episode 49 [213s]\tScore: 26.61\tAverage Score: 13.23\n",
      "Start Episode 50------------------------------------------------\n",
      "Episode 50 [218s]\tScore: 26.09\tAverage Score: 13.49\n",
      "\n",
      "Episode 50 [218s]\tAverage Score: 13.49\n",
      "\n",
      "Start Episode 51------------------------------------------------\n",
      "Episode 51 [218s]\tScore: 27.95\tAverage Score: 13.77\n",
      "Start Episode 52------------------------------------------------\n",
      "Episode 52 [218s]\tScore: 28.21\tAverage Score: 14.05\n",
      "Start Episode 53------------------------------------------------\n",
      "Episode 53 [218s]\tScore: 28.22\tAverage Score: 14.31\n",
      "Start Episode 54------------------------------------------------\n",
      "Episode 54 [219s]\tScore: 28.92\tAverage Score: 14.58\n",
      "Start Episode 55------------------------------------------------\n",
      "Episode 55 [219s]\tScore: 30.04\tAverage Score: 14.87\n",
      "Start Episode 56------------------------------------------------\n",
      "Episode 56 [219s]\tScore: 29.29\tAverage Score: 15.12\n",
      "Start Episode 57------------------------------------------------\n",
      "Episode 57 [218s]\tScore: 29.75\tAverage Score: 15.38\n",
      "Start Episode 58------------------------------------------------\n",
      "Episode 58 [215s]\tScore: 31.86\tAverage Score: 15.66\n",
      "Start Episode 59------------------------------------------------\n",
      "Episode 59 [216s]\tScore: 31.76\tAverage Score: 15.94\n",
      "Start Episode 60------------------------------------------------\n",
      "Episode 60 [216s]\tScore: 33.07\tAverage Score: 16.22\n",
      "\n",
      "Episode 60 [216s]\tAverage Score: 16.22\n",
      "\n",
      "Start Episode 61------------------------------------------------\n",
      "Episode 61 [216s]\tScore: 33.83\tAverage Score: 16.51\n",
      "Start Episode 62------------------------------------------------\n",
      "Episode 62 [216s]\tScore: 34.41\tAverage Score: 16.80\n",
      "Start Episode 63------------------------------------------------\n",
      "Episode 63 [216s]\tScore: 32.65\tAverage Score: 17.05\n",
      "Start Episode 64------------------------------------------------\n",
      "Episode 64 [217s]\tScore: 34.93\tAverage Score: 17.33\n",
      "Start Episode 65------------------------------------------------\n",
      "Episode 65 [217s]\tScore: 34.10\tAverage Score: 17.59\n",
      "Start Episode 66------------------------------------------------\n",
      "Episode 66 [217s]\tScore: 35.74\tAverage Score: 17.86\n",
      "Start Episode 67------------------------------------------------\n",
      "Episode 67 [217s]\tScore: 35.17\tAverage Score: 18.12\n",
      "Start Episode 68------------------------------------------------\n",
      "Episode 68 [217s]\tScore: 36.27\tAverage Score: 18.39\n",
      "Start Episode 69------------------------------------------------\n",
      "Episode 69 [217s]\tScore: 37.13\tAverage Score: 18.66\n",
      "Start Episode 70------------------------------------------------\n",
      "Episode 70 [218s]\tScore: 37.22\tAverage Score: 18.93\n",
      "\n",
      "Episode 70 [218s]\tAverage Score: 18.93\n",
      "\n",
      "Start Episode 71------------------------------------------------\n",
      "Episode 71 [217s]\tScore: 37.92\tAverage Score: 19.19\n",
      "Start Episode 72------------------------------------------------\n",
      "Episode 72 [218s]\tScore: 38.08\tAverage Score: 19.46\n",
      "Start Episode 73------------------------------------------------\n",
      "Episode 73 [217s]\tScore: 38.96\tAverage Score: 19.72\n",
      "Start Episode 74------------------------------------------------\n",
      "Episode 74 [218s]\tScore: 38.83\tAverage Score: 19.98\n",
      "Start Episode 75------------------------------------------------\n",
      "Episode 75 [217s]\tScore: 38.87\tAverage Score: 20.23\n",
      "Start Episode 76------------------------------------------------\n",
      "Episode 76 [218s]\tScore: 39.01\tAverage Score: 20.48\n",
      "Start Episode 77------------------------------------------------\n",
      "Episode 77 [217s]\tScore: 38.81\tAverage Score: 20.72\n",
      "Start Episode 78------------------------------------------------\n",
      "Episode 78 [217s]\tScore: 38.69\tAverage Score: 20.95\n",
      "Start Episode 79------------------------------------------------\n",
      "Episode 79 [217s]\tScore: 39.02\tAverage Score: 21.18\n",
      "Start Episode 80------------------------------------------------\n",
      "Episode 80 [219s]\tScore: 39.13\tAverage Score: 21.40\n",
      "\n",
      "Episode 80 [219s]\tAverage Score: 21.40\n",
      "\n",
      "Start Episode 81------------------------------------------------\n",
      "Episode 81 [217s]\tScore: 39.03\tAverage Score: 21.62\n",
      "Start Episode 82------------------------------------------------\n",
      "Episode 82 [217s]\tScore: 39.05\tAverage Score: 21.83\n",
      "Start Episode 83------------------------------------------------\n",
      "Episode 83 [217s]\tScore: 38.84\tAverage Score: 22.04\n",
      "Start Episode 84------------------------------------------------\n",
      "Episode 84 [218s]\tScore: 38.75\tAverage Score: 22.24\n",
      "Start Episode 85------------------------------------------------\n",
      "Episode 85 [218s]\tScore: 38.92\tAverage Score: 22.43\n",
      "Start Episode 86------------------------------------------------\n",
      "Episode 86 [218s]\tScore: 39.11\tAverage Score: 22.63\n",
      "Start Episode 87------------------------------------------------\n",
      "Episode 87 [218s]\tScore: 39.36\tAverage Score: 22.82\n",
      "Start Episode 88------------------------------------------------\n",
      "Episode 89 [219s]\tScore: 38.83\tAverage Score: 23.18\n",
      "Start Episode 90------------------------------------------------\n",
      "Episode 90 [219s]\tScore: 38.82\tAverage Score: 23.35\n",
      "\n",
      "Episode 90 [219s]\tAverage Score: 23.35\n",
      "\n",
      "Start Episode 91------------------------------------------------\n",
      "Episode 91 [218s]\tScore: 38.92\tAverage Score: 23.52\n",
      "Start Episode 92------------------------------------------------\n",
      "Episode 92 [218s]\tScore: 38.42\tAverage Score: 23.68\n",
      "Start Episode 93------------------------------------------------\n",
      "Episode 93 [218s]\tScore: 38.58\tAverage Score: 23.84\n",
      "Start Episode 94------------------------------------------------\n",
      "Episode 94 [218s]\tScore: 39.44\tAverage Score: 24.01\n",
      "Start Episode 95------------------------------------------------\n",
      "Episode 95 [219s]\tScore: 38.88\tAverage Score: 24.17\n",
      "Start Episode 96------------------------------------------------\n",
      "Episode 96 [218s]\tScore: 38.96\tAverage Score: 24.32\n",
      "Start Episode 97------------------------------------------------\n",
      "Episode 97 [219s]\tScore: 39.17\tAverage Score: 24.47\n",
      "Start Episode 98------------------------------------------------\n",
      "Episode 98 [219s]\tScore: 38.26\tAverage Score: 24.61\n",
      "Start Episode 99------------------------------------------------\n",
      "Episode 99 [217s]\tScore: 38.27\tAverage Score: 24.75\n",
      "Start Episode 100------------------------------------------------\n",
      "Episode 100 [218s]\tScore: 38.84\tAverage Score: 24.89\n",
      "\n",
      "Episode 100 [218s]\tAverage Score: 24.89\n",
      "\n",
      "Start Episode 101------------------------------------------------\n",
      "Episode 101 [218s]\tScore: 38.67\tAverage Score: 25.27\n",
      "Start Episode 102------------------------------------------------\n",
      "Episode 102 [219s]\tScore: 38.32\tAverage Score: 25.64\n",
      "Start Episode 103------------------------------------------------\n",
      "Episode 103 [219s]\tScore: 38.89\tAverage Score: 26.01\n",
      "Start Episode 104------------------------------------------------\n",
      "Episode 104 [220s]\tScore: 38.22\tAverage Score: 26.36\n",
      "Start Episode 105------------------------------------------------\n",
      "Episode 105 [219s]\tScore: 37.10\tAverage Score: 26.69\n",
      "Start Episode 106------------------------------------------------\n",
      "Episode 106 [220s]\tScore: 38.69\tAverage Score: 27.05\n",
      "Start Episode 107------------------------------------------------\n",
      "Episode 107 [219s]\tScore: 38.38\tAverage Score: 27.41\n",
      "Start Episode 108------------------------------------------------\n",
      "Episode 108 [219s]\tScore: 38.83\tAverage Score: 27.76\n",
      "Start Episode 109------------------------------------------------\n",
      "Episode 109 [219s]\tScore: 38.67\tAverage Score: 28.09\n",
      "Start Episode 110------------------------------------------------\n",
      "Episode 110 [219s]\tScore: 38.82\tAverage Score: 28.42\n",
      "\n",
      "Episode 110 [219s]\tAverage Score: 28.42\n",
      "\n",
      "Start Episode 111------------------------------------------------\n",
      "Episode 111 [219s]\tScore: 38.13\tAverage Score: 28.74\n",
      "Start Episode 112------------------------------------------------\n",
      "Episode 112 [218s]\tScore: 38.29\tAverage Score: 29.06\n",
      "Start Episode 113------------------------------------------------\n",
      "Episode 113 [220s]\tScore: 38.55\tAverage Score: 29.37\n",
      "Start Episode 114------------------------------------------------\n",
      "Episode 114 [219s]\tScore: 39.09\tAverage Score: 29.68\n",
      "Start Episode 115------------------------------------------------\n",
      "Episode 115 [219s]\tScore: 37.72\tAverage Score: 29.97\n",
      "Start Episode 116------------------------------------------------\n",
      "Episode 116 [219s]\tScore: 37.98\tAverage Score: 30.25\n",
      "Environment solved in 16\tScore: 30.25\n",
      "SAVING CHECKPOINTS...\n"
     ]
    }
   ],
   "source": [
    "scores = ddpg()"
   ]
  },
  {
   "cell_type": "markdown",
   "metadata": {},
   "source": [
    "## Plot Agent Score"
   ]
  },
  {
   "cell_type": "code",
   "execution_count": 10,
   "metadata": {},
   "outputs": [],
   "source": [
    "import matplotlib.pyplot as plt\n",
    "\n",
    "%matplotlib inline"
   ]
  },
  {
   "cell_type": "code",
   "execution_count": 13,
   "metadata": {},
   "outputs": [
    {
     "data": {
      "image/png": "[encoded data removed]",
      "text/plain": [
       "<matplotlib.figure.Figure at 0x7f7c71e7fd30>"
      ]
     },
     "metadata": {
      "needs_background": "light"
     },
     "output_type": "display_data"
    }
   ],
   "source": [
    "fig = plt.figure()\n",
    "plt.plot(np.arange(len(scores)), scores, label='DDPG Agent')\n",
    "plt.ylabel('Score')\n",
    "plt.xlabel('Episode #')\n",
    "plt.show()"
   ]
  },
  {
   "cell_type": "code",
   "execution_count": null,
   "metadata": {},
   "outputs": [],
   "source": []
  }
 ],
 "metadata": {
  "kernelspec": {
   "display_name": "Python 3",
   "language": "python",
   "name": "python3"
  },
  "language_info": {
   "codemirror_mode": {
    "name": "ipython",
    "version": 3
   },
   "file_extension": ".py",
   "mimetype": "text/x-python",
   "name": "python",
   "nbconvert_exporter": "python",
   "pygments_lexer": "ipython3",
   "version": "3.6.3"
  }
 },
 "nbformat": 4,
 "nbformat_minor": 2
}
